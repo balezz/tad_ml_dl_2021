{
  "nbformat": 4,
  "nbformat_minor": 0,
  "metadata": {
    "colab": {
      "provenance": [],
      "authorship_tag": "ABX9TyPeU2aLATneQnq3lWR5BT/B",
      "include_colab_link": true
    },
    "kernelspec": {
      "name": "python3",
      "display_name": "Python 3"
    },
    "language_info": {
      "name": "python"
    }
  },
  "cells": [
    {
      "cell_type": "markdown",
      "metadata": {
        "id": "view-in-github",
        "colab_type": "text"
      },
      "source": [
        "<a href=\"https://colab.research.google.com/github/balezz/tad_ml_dl_2021/blob/main/ColabLauncher.ipynb\" target=\"_parent\"><img src=\"https://colab.research.google.com/assets/colab-badge.svg\" alt=\"Open In Colab\"/></a>"
      ]
    },
    {
      "cell_type": "code",
      "execution_count": null,
      "metadata": {
        "id": "EH4RCx241YPx"
      },
      "outputs": [],
      "source": [
        "! git clone https://github.com/labintsev/neuralnets"
      ]
    },
    {
      "cell_type": "code",
      "source": [
        "%cd neuralnets"
      ],
      "metadata": {
        "id": "c_6r_kMx1gUK"
      },
      "execution_count": null,
      "outputs": []
    },
    {
      "cell_type": "code",
      "source": [
        "! python src/seminar2.py"
      ],
      "metadata": {
        "id": "1cBd0W_r1j9S"
      },
      "execution_count": null,
      "outputs": []
    }
  ]
}